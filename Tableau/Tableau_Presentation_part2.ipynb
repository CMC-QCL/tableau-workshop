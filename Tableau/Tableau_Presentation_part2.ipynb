{
 "cells": [
  {
   "cell_type": "code",
   "execution_count": null,
   "metadata": {
    "slideshow": {
     "slide_type": "slide"
    }
   },
   "outputs": [],
   "source": [
    "#Guide on hoe to publish Markdown Slides: \n",
    "https://medium.com/learning-machine-learning/present-your-data-science-projects-with-jupyter-slides-75f20735eb0f"
   ]
  },
  {
   "cell_type": "markdown",
   "metadata": {
    "slideshow": {
     "slide_type": "slide"
    }
   },
   "source": [
    " # <center> Tableau Presentation Part 2 </center>\n",
    "\n",
    "### <center> By Zeyad Elkelani </center>\n",
    "#### <center> Graduate Fellow </center>\n",
    "\n",
    "### <center> Murty Sunak Quantitative and Computing Lab </center>\n",
    "## <center> Claremont Mckenna College</center>\n",
    "\n",
    "#### <center> July 8, 2019 </center>"
   ]
  },
  {
   "cell_type": "markdown",
   "metadata": {
    "slideshow": {
     "slide_type": "slide"
    }
   },
   "source": [
    "## Agenda \n",
    "- Recap from Part 1\n",
    "- Filtering, Calculations, & Analytics\n",
    "- Sharing\n",
    "- Hands-On\n",
    "- Further Learning"
   ]
  },
  {
   "cell_type": "markdown",
   "metadata": {
    "slideshow": {
     "slide_type": "slide"
    }
   },
   "source": [
    "# Filtering, Calculations, & Analytics"
   ]
  },
  {
   "cell_type": "markdown",
   "metadata": {
    "slideshow": {
     "slide_type": "subslide"
    }
   },
   "source": [
    "### Filtering\n",
    "- `Action` Make a copy of your text table worksheet (Right-Click > Duplicate)\n",
    "- Perhaps you only want this view to show for adult women.\n",
    "    - `Action` Drag Sex into filters and choose women.\n",
    "    - `Action` Then drag Age into filters and select at least and then enter 18\n",
    "- There are many ways to filter by variable and it’s important when presenting data to explain what parts of the data are filtered out to avoid being misleading.\n"
   ]
  },
  {
   "cell_type": "markdown",
   "metadata": {
    "slideshow": {
     "slide_type": "subslide"
    }
   },
   "source": [
    "### Calculations\n",
    "- Just summing up the data isn’t always the best way to view it. Tableau allows for you to do many different mathematical calculations on the data.\n",
    "- `Action` Return to Sheet 4 \n",
    "    - Right-click on the *Number of Records* in Rows self **> Quick Table Calculation > Percent of Total**.\n",
    "    - If you double click on the measure in Rows self, it will show the calculation that Tableau uses to get the result: `SUM([Number of Records]) / TOTAL(SUM([Number of Records]))`\n",
    "        - Tableau offers many functions that are very similar if not the same as the ones in SQL or Excel.\n",
    "        - http://onlinehelp.tableau.com/current/pro/desktop/en-us/functions_all_categories.html\n",
    "- What percentage of passengers were male survivors?\n"
   ]
  },
  {
   "cell_type": "markdown",
   "metadata": {
    "slideshow": {
     "slide_type": "subslide"
    }
   },
   "source": [
    "### Calculations (continued)\n",
    "- `Action` Add a new sheet\n",
    "    - `Action` Add *Ticket Class* and Age to Columns and Rows self\n",
    "    - This chart doesn’t tell us much with the sum of all the ages so we will change it to average\n",
    "    - `Action` **Right Click `Age` > Measure (SUM) > Average**\n",
    "- Is there a relationship between age and ticket class?\n",
    "- Tableau also allows us to create our own variables.\n",
    "    - Let’s create a variable to represent the size of a passengers family.\n",
    "    - `Action` **Right Click** in the Measures area > **Create Calculated Field…**\n",
    "    - `Action` Name the field *Family Size*\n",
    "    - `Action` In the body, type `1 + [Parch] + [Sib Sp]` (notice Tableau offers autocomplete) \n",
    "    - `Action` On a new sheet visualize this in a histogram.\n",
    "- What does this distribution of family size mean?\n"
   ]
  },
  {
   "cell_type": "markdown",
   "metadata": {
    "slideshow": {
     "slide_type": "subslide"
    }
   },
   "source": [
    "### Analytics\n",
    "- The Analytics pane provides quick and easy access to common analytic features in Tableau.\n",
    "    - You can use this pane to add average lines, trend lines, totals and more.\n",
    "    - `Action` Try adding an average line to your scatter plot\n",
    "    - `Action` Try adding totals to your text table."
   ]
  },
  {
   "cell_type": "markdown",
   "metadata": {
    "slideshow": {
     "slide_type": "slide"
    }
   },
   "source": [
    "# Sharing "
   ]
  },
  {
   "cell_type": "markdown",
   "metadata": {
    "slideshow": {
     "slide_type": "subslide"
    }
   },
   "source": [
    "### Sharing\n",
    "- To share or present your findings the easiest way is to just export an image.\n",
    "    - On any worksheet go to **Worksheet > Export > Image…**\n",
    "    - It will give you options on Titles, Legends, Captions, and more.\n",
    "- If you want to show a collection of visualizations you will be better off *creating a dashboard and/or a story* and exporting that.\n",
    "- If you are collaborating with another Tableau user you can share the .twbx file or just a .twb if they have the data.\n",
    "- If you need your visualizations to be interactive you can publish sheets to a Tableau Server. You can make a Tableau Public account to share your visualizations publically for free."
   ]
  },
  {
   "cell_type": "markdown",
   "metadata": {
    "slideshow": {
     "slide_type": "slide"
    }
   },
   "source": [
    "### Tableau Public\n",
    "- Example: https://public.tableau.com/profile/jeho.park4543#!/vizhome/DataVizwithTableau_0/Dashboard1 \n",
    "- Example: http://publichealthintelligence.org/content/global-overview-magnitude-disparities-and-trend-infant-mortality-world-1950-2011\n"
   ]
  },
  {
   "cell_type": "markdown",
   "metadata": {
    "slideshow": {
     "slide_type": "slide"
    }
   },
   "source": [
    "# Further Learning"
   ]
  },
  {
   "cell_type": "markdown",
   "metadata": {
    "slideshow": {
     "slide_type": "subslide"
    }
   },
   "source": [
    "### Further Learning: Topics\n",
    "- Formatting\n",
    "- Data Cleaning\n",
    "- Advanced Calculations and Expressions\n",
    "- Advanced Chart Types\n",
    "- R Integration\n",
    "- Geospatial Analysis\n",
    "- Forecasting / Trend Lines / Regression"
   ]
  },
  {
   "cell_type": "markdown",
   "metadata": {
    "slideshow": {
     "slide_type": "subslide"
    }
   },
   "source": [
    "### Further Learning: Resources\n",
    "- Learning Resources:\n",
    "    - Tableau.com/learn\n",
    "    - Explore Tableau Public\n",
    "    - Tutorialspoint\n",
    "    - YouTube / Blog Posts\n",
    "- Data Sources:\n",
    "    - Kaggle\n",
    "    - Data.gov\n",
    "    - Data.world\n",
    "    - Los Angeles Open Data (https://data.lacity.org )\n",
    "    - UCI Machine Learning Repository"
   ]
  },
  {
   "cell_type": "markdown",
   "metadata": {
    "slideshow": {
     "slide_type": "slide"
    }
   },
   "source": [
    "# <center> Thank you </center>\n",
    "## <center> For questions & feedback: </center>\n",
    "## <center> zelkelani@cmc.edu </center>\n"
   ]
  }
 ],
 "metadata": {
  "celltoolbar": "Slideshow",
  "kernelspec": {
   "display_name": "Python 3",
   "language": "python",
   "name": "python3"
  },
  "language_info": {
   "codemirror_mode": {
    "name": "ipython",
    "version": 3
   },
   "file_extension": ".py",
   "mimetype": "text/x-python",
   "name": "python",
   "nbconvert_exporter": "python",
   "pygments_lexer": "ipython3",
   "version": "3.7.3"
  }
 },
 "nbformat": 4,
 "nbformat_minor": 2
}
