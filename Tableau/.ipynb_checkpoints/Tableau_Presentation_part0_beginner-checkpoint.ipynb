{
 "cells": [
  {
   "cell_type": "markdown",
   "metadata": {
    "slideshow": {
     "slide_type": "skip"
    }
   },
   "source": [
    "#Guide on hoe to publish Markdown Slides: \n",
    "https://medium.com/learning-machine-learning/present-your-data-science-projects-with-jupyter-slides-75f20735eb0f\n",
    "https://rise.readthedocs.io/en/stable/exportpdf.html"
   ]
  },
  {
   "cell_type": "markdown",
   "metadata": {
    "slideshow": {
     "slide_type": "slide"
    }
   },
   "source": [
    " # <center> Tableau Workshop Part 0.1 </center>\n",
    "\n",
    "\n",
    "### <center> By Zeyad Kelani </center>\n",
    "### <center> Graduate Fellow </center>\n",
    "\n",
    "\n",
    "### <center> Murty Sunak Quantitative and Computing Lab </center>\n",
    "## <center> Claremont McKenna College</center> \n",
    "\n",
    "#### <center>  Summer 2019 </center>\n"
   ]
  },
  {
   "cell_type": "markdown",
   "metadata": {
    "slideshow": {
     "slide_type": "slide"
    }
   },
   "source": [
    "\n",
    "### Sign-in Form: https://bit.ly/2K5CX5f\n",
    "  "
   ]
  },
  {
   "cell_type": "markdown",
   "metadata": {
    "slideshow": {
     "slide_type": "slide"
    }
   },
   "source": [
    "## Agenda \n",
    "- Getting Started: What is Tableau?\n",
    "- Tableau Environment\n",
    "- Visualizing Data\n",
    "- Marks & Customizing the View\n",
    "- Intro to calculations \n",
    "- All Hands-On\n"
   ]
  },
  {
   "cell_type": "markdown",
   "metadata": {
    "slideshow": {
     "slide_type": "slide"
    }
   },
   "source": [
    "## Learning Objectives\n",
    "\n",
    "- Participants will be able to walk away with the following:\n",
    "    - Connecting to data\n",
    "    - Perfrom data merger in Tableau\n",
    "    - Difference between measures and dimensions \n",
    "    - Data Visualization \"Viz\"\n",
    "    - Functions and Calculations\n",
    "    "
   ]
  },
  {
   "cell_type": "markdown",
   "metadata": {
    "slideshow": {
     "slide_type": "slide"
    }
   },
   "source": [
    "## <center> Getting Started with Tableau </center>\n",
    "<center> <img src=\"./img/tableau-logo.png\" alt=\"Drawing\" style=\"width: 400px;\"/> </center> \n"
   ]
  },
  {
   "cell_type": "markdown",
   "metadata": {
    "slideshow": {
     "slide_type": "slide"
    }
   },
   "source": [
    "## What is Tableau?\n",
    "**Tableau is is one of the fastest evolving business intelligence and data visualization tools.**\n",
    "- It is a tool that connect to a data source, create visualization (\"viz\"), and combine/generate multiple visualizations into an interactive dashboard (\"dash\").\n",
    "\n",
    "<center><img src=\"./img/Tableau_1.png\" alt=\"Drawing\" style=\"width: 330px;\"/></center>\n",
    "\n",
    "\n",
    "**Figure 1** - Magic Quadrant for Analytics and Business Intelligence Platforms - Source: Gartner (February 2018)\n",
    "\n"
   ]
  },
  {
   "cell_type": "markdown",
   "metadata": {
    "slideshow": {
     "slide_type": "slide"
    }
   },
   "source": [
    "## <center> What Can you do with Tableau? </center>\n",
    "\n",
    "- List of public projects availabe for anyone -without data sources- for idea generation. \n",
    "\n",
    "https://public.tableau.com/en-us/s/gallery/analyzing-ums?gallery=votd "
   ]
  },
  {
   "cell_type": "markdown",
   "metadata": {
    "slideshow": {
     "slide_type": "slide"
    }
   },
   "source": [
    "## <center> Tableau Products </center> \n",
    "Tableau Desktop | Tableau  Online Server | Tableau Public | Tableau Public Server \n",
    "--- | --- | --- | --- \n",
    "**Private** |**Private** | **Public** | **Public**\n",
    "Individual Computer License| `https://tableau.schoolname.edu` | `https://public.tableau.com` | Public Hosting for Tableau Files\n",
    "Creat and edit visualization | Customized security | Data is stored/accessed through website | Read and Interact with Vizzes\n",
    "`License - can grant one year for Academics` | `Institutional Level` | `Free` | `Free and Open Access`"
   ]
  },
  {
   "cell_type": "markdown",
   "metadata": {
    "slideshow": {
     "slide_type": "slide"
    }
   },
   "source": [
    "## Installing Tableau\n",
    "- Install Free Trial Version of Tableau here:\n",
    "    - https://www.tableau.com/products/trial\n",
    "- Instructors and Researchers\n",
    "    - Free Desktop license for a year (renewable)\n",
    "https://www.tableau.com/academic/teaching/course-licenses\n",
    "- Students\n",
    "    - Free Desktop license for a year (renewable)\n",
    "https://www.tableau.com/academic/students\n"
   ]
  },
  {
   "cell_type": "markdown",
   "metadata": {
    "slideshow": {
     "slide_type": "slide"
    }
   },
   "source": [
    "## <center> Tableau File Types </center> \n",
    "TWB | TWBX | TDE \n",
    "--- | --- | --- \n",
    "**Tableau Workbook File**| **Tableau Packaged Workbook**| **Tableau Data Extract**\n",
    "XML file with visualization| Zip file | Compressed data sources \n",
    "Does not conatin data & Cannot open data files | Contains TWB file & data | \n"
   ]
  },
  {
   "cell_type": "markdown",
   "metadata": {
    "slideshow": {
     "slide_type": "slide"
    }
   },
   "source": [
    "# <center> Tableau Environment </center>\n",
    " <center><img src=\"./img/desktop_example.png\" alt=\"Drawing\" style=\"width: 420px;\"/></center> \n",
    "    <center> Desktop </center>\n",
    " <center><img src=\"./img/tableau_server_home.png\" alt=\"Drawing\" style=\"width: 420px;\"/></center> \n",
    "<center> Server </center>"
   ]
  },
  {
   "cell_type": "markdown",
   "metadata": {
    "slideshow": {
     "slide_type": "slide"
    }
   },
   "source": [
    "# Let's Start with Tableau\n",
    "\n",
    "- Let's start by using Titanic dataset from Kaggle: \n",
    "The sinking of the RMS Titanic is one of the most infamous shipwrecks in history.  On April 15, 1912, during her maiden voyage, the Titanic sank after colliding with an iceberg, killing 1502 out of 2224 passengers and crew. This sensational tragedy shocked the international community and led to better safety regulations for ships. One of the reasons that the shipwreck led to such loss of life was that there were not enough lifeboats for the passengers and crew. Although there was some element of luck involved in surviving the sinking, some groups of people were more likely to survive than others, such as women, children, and the upper-class.Let's use realistic but not real data and see how can visualization using tableau can be really helpful.\n",
    "- We use data offered through a Kaggle competition:- Kaggle WebPage: `https://www.kaggle.com/c/titanic/data`\n",
    "\n",
    "\n"
   ]
  },
  {
   "cell_type": "markdown",
   "metadata": {
    "slideshow": {
     "slide_type": "slide"
    }
   },
   "source": [
    "## <center> Make sure to download the data through the following link: </center>\n",
    "## <center>https://bit.ly/2SPtMZt</center>"
   ]
  },
  {
   "cell_type": "markdown",
   "metadata": {
    "slideshow": {
     "slide_type": "slide"
    }
   },
   "source": [
    "## Data Overview:\n",
    "\n",
    "  - This section entails variables included in used dataset.\n",
    "\n",
    "Variable | Definition | Key\n",
    "--- | --- | ---\n",
    "survival|\tSurviva|\t0 = No, 1 = Yes\n",
    "pclass| Ticket class|\t1 = 1st, 2 = 2nd, 3 = 3rd\n",
    "sex| Sex\n",
    "Age| Age in years\n",
    "sibsp|\t# of siblings / spouses aboard the Titanic\n",
    "parch|\t# of parents / children aboard the Titanic\n",
    "ticket|\tTicket number\n",
    "fare|\tPassenger fare\n",
    "cabin|\tCabin number\n",
    "embarked|\tPort of Embarkation\tC = Cherbourg, Q = Queenstown, S = Southampton\n"
   ]
  },
  {
   "cell_type": "markdown",
   "metadata": {
    "slideshow": {
     "slide_type": "slide"
    }
   },
   "source": [
    "## Connecting to Data: \n",
    "- Tableau can connect to many filetypes\n",
    "    - Excel, csv, spatial, statistical\n",
    "- Download the dataset\n",
    "- Connect to Data > More… > titanic.csv\n",
    " <center><img src=\"./img/connect_csv.png\" alt=\"Drawing\" style=\"width: 320px;\"/></center> \n",
    "\n",
    "- Different ways to connect your data:\n",
    "    - E.g. Box.com integration (demo)\n",
    "\n"
   ]
  },
  {
   "cell_type": "markdown",
   "metadata": {
    "slideshow": {
     "slide_type": "subslide"
    }
   },
   "source": [
    "## Two main data types: Dimensions and Measures\n",
    "- Tableau assigns any fields to Dimensions if they cannot be aggregated. (e.g. categorical data in strings or Booleans)\n",
    "- Tableau assigns any fields to Measures if they can be measured, aggregated, or used for mathematical operations. (e.g., numbers)\n",
    "- ***Ordinal*** data is a categorical, statistical data type where the variables have ordered categories like school grades (1st year for 1, 2nd year for 2, etc.). Tableau will import these as measures but often they make more sense as dimensions.\n",
    "    - `Action` convert **Pclass** and **Survived** to dimensions. \n"
   ]
  },
  {
   "cell_type": "markdown",
   "metadata": {
    "slideshow": {
     "slide_type": "subslide"
    }
   },
   "source": [
    "## Workbooks and Sheets\n",
    "- Tableau uses a workbook and sheet file structure, much like Microsoft Excel. A **workbook** contains sheets in three different kinds: \n",
    "    - A **worksheet** contains a single view along with shelves, cards, legends, and the Data pane.\n",
    "    - A **dashboard** is a collection of views from multiple worksheets.\n",
    "    - A **story** contains a sequence of worksheets or dashboards that work together to convey information.\n"
   ]
  },
  {
   "cell_type": "markdown",
   "metadata": {
    "slideshow": {
     "slide_type": "subslide"
    }
   },
   "source": [
    "### Workbooks and Sheets (cont.)\n",
    "- The difference between a *workbook (.twb)* and *packaged workbook (.twbx)* is that a packaged workbook is meant for sharing and includes the data source and any other files used to make the workbook.\n",
    "- Sharing Tableau workbook\n",
    "    - Via Tableau file\n",
    "    - Via Tableau Server\n",
    "    - Via Tableau Public"
   ]
  },
  {
   "cell_type": "markdown",
   "metadata": {
    "slideshow": {
     "slide_type": "subslide"
    }
   },
   "source": [
    "## Worksheet UI\n",
    "<center><img src=\"./img/Worksheet.png\" alt=\"Drawing\" style=\"width: 700px;\"/></center> \n",
    "    <center> Worksheet Components </center>\n"
   ]
  },
  {
   "cell_type": "markdown",
   "metadata": {
    "slideshow": {
     "slide_type": "slide"
    }
   },
   "source": [
    "# <center> Visualizing Data </center>"
   ]
  },
  {
   "cell_type": "markdown",
   "metadata": {
    "slideshow": {
     "slide_type": "subslide"
    }
   },
   "source": [
    "## Visualizing Numerical Data\n",
    "- Tableau has a collection of charts you can use to visualize numerical data.\n",
    "    - These include histograms, scatterplots, box-and-whisker plots, and bullet graphs.\n"
   ]
  },
  {
   "cell_type": "markdown",
   "metadata": {
    "slideshow": {
     "slide_type": "subslide"
    }
   },
   "source": [
    "### Histogram\n",
    "- A histogram helps represent the distribution of numerical data.\n",
    "    - It is similar to a bar chart but it is used to plot frequency of a continuous variable that is divided into bins.\n",
    "- `Action` Drag **Age**  into Columns and then click on the histogram in the **Show Me** tab.\n",
    "- NOTE: You can change the bin size by going to Age (bins) dimension and clicking Edit...\n",
    "\n"
   ]
  },
  {
   "cell_type": "markdown",
   "metadata": {
    "slideshow": {
     "slide_type": "subslide"
    }
   },
   "source": [
    "### Scatter Plot \n",
    "- A scatter plot is good at showing relationships between two numerical variables (measures).\n",
    "- `Action`Add **Age & Fare** into Columns and Rows self\n",
    "- By default Tableau aggregates the data which is normally what you want to do. However in a scatter plot you want to see each individual record. So you need to go to **Analysis > Aggregate Measures** to disaggregate the measures.\n",
    "Is there any relationship between age and fare?\n"
   ]
  },
  {
   "cell_type": "markdown",
   "metadata": {
    "slideshow": {
     "slide_type": "subslide"
    }
   },
   "source": [
    "### Text Tables\n",
    "- Text tables aren’t the most interesting way to visualize data but they have their time and place.\n",
    "- `Action` Add **Pclass and Survived** into Rows and Columns.\n",
    "- `Action` Then add Number of Records into the **Text box** in the **Marks** area.\n",
    "    - I’ll explain in more detail about what the Marks area is for later.\n",
    "- In what class were most of the passengers that died?\n"
   ]
  },
  {
   "cell_type": "markdown",
   "metadata": {
    "slideshow": {
     "slide_type": "subslide"
    }
   },
   "source": [
    "### Bar Chart / Stacked Bars / Pie Chart\n",
    "- Pie charts are probably the most simple and effective way of presenting categorical data.\n",
    "- `Action` Add **Survived and Number of Records** into Columns and Rows self.\n",
    "- What if you also want to see how sex played a part into survival?\n",
    "    - Add Sex into Columns self.\n",
    "    - This can also be represented as a Stacked Bar Chart or a Pie Chart using the **Show Me** tab.\n"
   ]
  },
  {
   "cell_type": "markdown",
   "metadata": {
    "slideshow": {
     "slide_type": "slide"
    }
   },
   "source": [
    "# <center> Marks & Customizing the View </center>"
   ]
  },
  {
   "cell_type": "markdown",
   "metadata": {
    "slideshow": {
     "slide_type": "subslide"
    }
   },
   "source": [
    "### Color \n",
    "- Color can be a useful tool in data visualization.\n",
    "- `Action` Return to your histogram.\n",
    "    - To change the color of this chart simply click the **Color** button in the **Marks** area and choose a new one.\n",
    "- `Action` Return to your scatter plot.\n",
    "    - Changing the color of a chart is nice but changing color based on a variable can be exceptionally helpful\n",
    "    - `Action` Drag the **Pclass** dimension onto Color\n",
    "    - Click on Color and you can change which color represents which Pclass.\n",
    " \n"
   ]
  },
  {
   "cell_type": "markdown",
   "metadata": {
    "slideshow": {
     "slide_type": "subslide"
    }
   },
   "source": [
    "### More on Customizing the View\n",
    "- Size and Shape act the same way as color. You can change them by clicking on them and you can make them change based on a variable by dragging that variable on them.\n",
    "- Play around with these until you get a scatterplot that you like.\n",
    "- Label adds a text label to each mark\n",
    "- Tooltip changes what you read on the tooltip when you hover over a mark.\n",
    "- Detail adds other variables to the tooltip.\n"
   ]
  },
  {
   "cell_type": "markdown",
   "metadata": {
    "slideshow": {
     "slide_type": "subslide"
    }
   },
   "source": [
    "### Aliases & Formatting \n",
    "- `Action` Return to your text table (Sheet # 3).\n",
    "- *survived* 0,1 and Pclass 1,2,3 could be confusing to someone who doesn’t know the data. However, we can change how this is labeled without changing the original dataset.\n",
    "    - For numerical axes you can edit the title of the axes but for categorical axes you have to change the name of the dimension\n",
    "    - `Action` Right click *Pclass* and rename to Ticket Class.\n",
    "    - Next for the data itself you need to edit aliases to something more interpretable.\n",
    "        - `Action` For example you can right click 0 and edit the alias to “No” and change 1 to “Yes”.\n",
    "        - `Action` Then you could change the ticket classes to “1st”, “2nd”, “3rd”\n",
    "- Finally, you can click the title to give this chart a name.\n",
    "    - You could name this Survival by Ticket Class\n",
    "    - If you rename the sheet at the bottom it will automatically change the title as well.\n"
   ]
  },
  {
   "cell_type": "markdown",
   "metadata": {
    "slideshow": {
     "slide_type": "subslide"
    }
   },
   "source": [
    "### Filtering\n",
    "- `Action` Make a copy of your text table worksheet **(Right-Click > Duplicate)**\n",
    "- Perhaps you only want this view to show for adult women.\n",
    "    - `Action` Drag *Sex* into filters and choose women.\n",
    "    - `Action` Tne drag *Age* into filters and select at least and then enter 18\n",
    "- There are many ways to filter by variable and it’s important when presenting data to explain what parts of the data are filtered out to avoid being misleading.\n"
   ]
  },
  {
   "cell_type": "markdown",
   "metadata": {
    "slideshow": {
     "slide_type": "subslide"
    }
   },
   "source": [
    "### Calculations:\n",
    "- Just summing up the data isn’t always the best way to view it. Tableau allows for you to do many different mathematical calculations on the data.\n",
    "- `Action` Return to Sheet 4\n",
    "    - Right-click on the *Number of Records* in Rows self  **> Quick Table Calculation > Percent of Total**\n",
    "    - If you double click on the measure in Rows self, it will show the calculation that Tableau uses to get the result: ***SUM([Number of Records]) / TOTAL(SUM([Number of Records]))***\n",
    "        - Tableau offers many functions that are very similar if not the same as the ones in SQL or Excel.\n",
    "        - http://onlinehelp.tableau.com/current/pro/desktop/en-us/functions_all_categories.html\n",
    "- What percentage of passengers were male survivors?\n"
   ]
  },
  {
   "cell_type": "markdown",
   "metadata": {
    "slideshow": {
     "slide_type": "subslide"
    }
   },
   "source": [
    "### Analaytics\n",
    "- The Analytics pane provides quick and easy access to common analytic features in Tableau.\n",
    "    - You can use this pane to add average lines, trend lines, totals and more.\n",
    "    - `Action` Try adding an average line to your scatter plot\n",
    "    - `Action` Try adding totals to your text table.\n"
   ]
  },
  {
   "cell_type": "markdown",
   "metadata": {
    "slideshow": {
     "slide_type": "slide"
    }
   },
   "source": [
    "# <center> Thank you </center>\n",
    "## <center> For questions & feedback: </center>\n",
    "## <center> zelkelani@cmc.edu </center>\n"
   ]
  }
 ],
 "metadata": {
  "celltoolbar": "Slideshow",
  "kernelspec": {
   "display_name": "Python 3",
   "language": "python",
   "name": "python3"
  },
  "language_info": {
   "codemirror_mode": {
    "name": "ipython",
    "version": 3
   },
   "file_extension": ".py",
   "mimetype": "text/x-python",
   "name": "python",
   "nbconvert_exporter": "python",
   "pygments_lexer": "ipython3",
   "version": "3.7.3"
  }
 },
 "nbformat": 4,
 "nbformat_minor": 2
}
