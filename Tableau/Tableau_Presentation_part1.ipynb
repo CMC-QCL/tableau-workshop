{
 "cells": [
  {
   "cell_type": "markdown",
   "metadata": {
    "slideshow": {
     "slide_type": "skip"
    }
   },
   "source": [
    "#Guide on hoe to publish Markdown Slides: \n",
    "https://medium.com/learning-machine-learning/present-your-data-science-projects-with-jupyter-slides-75f20735eb0f"
   ]
  },
  {
   "cell_type": "markdown",
   "metadata": {
    "slideshow": {
     "slide_type": "slide"
    }
   },
   "source": [
    " # <center> Tableau Presentation Part 1 </center>\n",
    "\n",
    "\n",
    "\n",
    "## <center> Murty Sunak Quantitative and Computing Lab </center>\n",
    "## <center> Claremont Mckenna College</center>\n",
    "\n",
    "### <center> By Zeyad Elkelani </center>\n",
    "#### <center> Graduate Fellow </center>\n",
    "\n",
    "#### <center> Fall 2019 </center>\n"
   ]
  },
  {
   "cell_type": "markdown",
   "metadata": {
    "slideshow": {
     "slide_type": "slide"
    }
   },
   "source": [
    "## Agenda \n",
    "- Getting Started: What is Tableau?\n",
    "- Tableau Environment\n",
    "- Visualizing Data\n",
    "- Marks & Customizing the View\n",
    "- Hands-On\n"
   ]
  },
  {
   "cell_type": "markdown",
   "metadata": {
    "slideshow": {
     "slide_type": "slide"
    }
   },
   "source": [
    "## <center> Getting Started with Tableau </center>\n",
    "<center> <img src=\"./img/tableau-logo.png\" alt=\"Drawing\" style=\"width: 400px;\"/> </center> \n"
   ]
  },
  {
   "cell_type": "markdown",
   "metadata": {
    "slideshow": {
     "slide_type": "slide"
    }
   },
   "source": [
    "## What is Tableau?\n",
    "**Tableau is is one of the fastest evolving business intelligence and data visualization tools.**\n",
    "- It is a tool that connect to a data source, create visualization (\"viz\"), and combine/generate multiple visualizations into an interactive dashboard (\"dash\").\n",
    "\n",
    "<center><img src=\"./img/Tableau_1.png\" alt=\"Drawing\" style=\"width: 330px;\"/></center>\n",
    "\n",
    "\n",
    "**Figure 1** - Magic Quadrant for Analytics and Business Intelligence Platforms \n",
    "- Source: Gartner (February 2018)\n",
    "\n"
   ]
  },
  {
   "cell_type": "markdown",
   "metadata": {
    "slideshow": {
     "slide_type": "slide"
    }
   },
   "source": [
    "## <center> What Can you do with Tableau? </center>\n",
    "\n",
    "- List of public projects availabe for anyone -without data sources- for idea generation. \n",
    "\n",
    "https://public.tableau.com/en-us/s/gallery/analyzing-ums?gallery=votd "
   ]
  },
  {
   "cell_type": "markdown",
   "metadata": {
    "slideshow": {
     "slide_type": "slide"
    }
   },
   "source": [
    "## <center> Tableau Products </center> \n",
    "Tableau Desktop | Table  Server | Tableau Public | Tableau Public Server \n",
    "--- | --- | --- | --- \n",
    "**Private** |**Private** | **Public** | **Public**\n",
    "Individual Computer License| `https://tableau.schoolname.edu` | `https://public.tableau.com` | Public Hosting for Tableau Files\n",
    "Creat and edit visualization | Customized security | Data is stored/accessed through website | Read and Interact with Vizzes\n",
    "`License - can grant one year for Academics` | `Institutional Level` | `Free` | `Free and Open Access`"
   ]
  },
  {
   "cell_type": "markdown",
   "metadata": {
    "slideshow": {
     "slide_type": "slide"
    }
   },
   "source": [
    "## Installing Tableau\n",
    "- Install Free Trial Version of Tableau here:\n",
    "    - https://www.tableau.com/products/trial\n",
    "- Instructors and Researchers\n",
    "    - Free Desktop license for a year (renewable)\n",
    "https://www.tableau.com/academic/teaching/course-licenses\n",
    "- Students\n",
    "    - Free Desktop license for a year (renewable)\n",
    "https://www.tableau.com/academic/students\n"
   ]
  },
  {
   "cell_type": "markdown",
   "metadata": {
    "slideshow": {
     "slide_type": "slide"
    }
   },
   "source": [
    "## <center> Tableau File Types </center> \n",
    "TWB | TWBX | TDE \n",
    "--- | --- | --- \n",
    "**Tableau Workbook File**| **Tableau Packaged Workbook**| **Tableau Data Extract**\n",
    "XML file with visualization| Zip file | Compressed data sources \n",
    "Does not conatin data & Cannot open data files | Contains TWB file & data | \n"
   ]
  },
  {
   "cell_type": "markdown",
   "metadata": {
    "slideshow": {
     "slide_type": "slide"
    }
   },
   "source": [
    "# <center> Tableau Environment </center>\n",
    " <center><img src=\"./img/desktop_example.png\" alt=\"Drawing\" style=\"width: 420px;\"/></center> \n",
    "    <center> Desktop </center>\n",
    " <center><img src=\"./img/tableau_server_home.png\" alt=\"Drawing\" style=\"width: 420px;\"/></center> \n",
    "<center> Server </center>"
   ]
  },
  {
   "cell_type": "markdown",
   "metadata": {
    "slideshow": {
     "slide_type": "slide"
    }
   },
   "source": [
    "# Let's Start with Tableau\n",
    "\n",
    "- Let's use realistic but not real data and see how can visualization using tableau can be really helpful.\n",
    "\n",
    "- For this session, we will use SyntheaTM, which is an open-source, synthetic patient generator that models the medical history of synthetic patients. \n",
    "- https://synthetichealth.github.io/synthea/#about-landing \n",
    "\n",
    "- You can also download the data through the following link: \n",
    "    - `<INSERT BOX HYPER-LINK>`\n",
    "\n"
   ]
  },
  {
   "cell_type": "markdown",
   "metadata": {
    "slideshow": {
     "slide_type": "slide"
    }
   },
   "source": [
    "## Data Overview:\n",
    "\n",
    "For each synthetic patient, Synthea data contains a complete medical history, including medications, allergies, medical encounters, and social determinants of health. This data can be used without concern for legal or privacy restrictions.\n",
    "\n",
    "- From Synthea Datasets, we will use:\n",
    "    - patients.csv\n",
    "    - observations.csv\n",
    "    \n",
    "**Notes on Variables**\n",
    "- **patients dataset contains**:\n",
    "    - patient ID, birth date, death date, marital, race, ethnicity, gender, city, state, zip.\n",
    "- **observations dataset contians**: \n",
    "    - date, patient ID, encounter ID, code, description, value, units, type.\n"
   ]
  },
  {
   "attachments": {
    "image.png": {
     "image/png": "[encoded data removed]"
    }
   },
   "cell_type": "markdown",
   "metadata": {
    "slideshow": {
     "slide_type": "subslide"
    }
   },
   "source": [
    "\n",
    "- **observations dataset contians**: \n",
    "    - Date, patient ID, encounter ID, Code, description, value, units, type.\n",
    "\n",
    "DATE\tPATIENT\tENCOUNTER\tCODE\tDESCRIPTION\tVALUE\tUNITS\tTYPE\n",
    "![image.png](attachment:image.png)\n",
    "    - 1st = Upper\n",
    "    - 2nd = Middle\n",
    "    - 3rd = Lower\n",
    "- age: Age is fractional if less than 1. If the age is estimated, is it in the form of xx.5\n",
    "- sibsp: The dataset defines family relations in this way...\n",
    "- Sibling = brother, sister, stepbrother, stepsister\n",
    "- Spouse = husband, wife (mistresses and fiancés were ignored)\n",
    "- parch: The dataset defines family relations in this way...\n",
    "- Parent = mother, father\n",
    "- Child = daughter, son, stepdaughter, stepson\n",
    "- Some children travelled only with a nanny, therefore parch=0 for them."
   ]
  },
  {
   "cell_type": "markdown",
   "metadata": {
    "slideshow": {
     "slide_type": "slide"
    }
   },
   "source": [
    "## Connecting to Data: \n",
    "- Tableau can connect to many filetypes\n",
    "    - Excel, csv, spatial, statistical\n",
    "- Download the Titanic dataset\n",
    "- Connect to Data > More… > observations.csv\n",
    " <center><img src=\"./img/connect_csv.png\" alt=\"Drawing\" style=\"width: 300px;\"/></center> \n",
    "\n",
    "- Different ways to connect your data:\n",
    "    - E.g. Box.com integration (demo)\n",
    "\n"
   ]
  },
  {
   "cell_type": "markdown",
   "metadata": {
    "slideshow": {
     "slide_type": "subslide"
    }
   },
   "source": [
    "## Two main data types: Dimensions and Measures\n",
    "- Tableau assigns any fields to Dimensions if they cannot be aggregated. (e.g. categorical data in strings or Booleans)\n",
    "- Tableau assigns any fields to Measures if they can be measured, aggregated, or used for mathematical operations. (e.g., numbers)\n",
    "- ***Ordinal*** data is a categorical, statistical data type where the variables have ordered categories like school grades (1st year for 1, 2nd year for 2, etc.). Tableau will import these as measures but often they make more sense as dimensions.\n",
    "    \n"
   ]
  },
  {
   "cell_type": "markdown",
   "metadata": {
    "slideshow": {
     "slide_type": "subslide"
    }
   },
   "source": [
    "## Workbooks and Sheets\n",
    "- Tableau uses a workbook and sheet file structure, much like Microsoft Excel. A **workbook** contains sheets in three different kinds: \n",
    "    - A **worksheet** contains a single view along with shelves, cards, legends, and the Data pane.\n",
    "    - A **dashboard** is a collection of views from multiple worksheets.\n",
    "    - A **story** contains a sequence of worksheets or dashboards that work together to convey information.\n"
   ]
  },
  {
   "cell_type": "markdown",
   "metadata": {
    "slideshow": {
     "slide_type": "subslide"
    }
   },
   "source": [
    "### Workbooks and Sheets (cont.)\n",
    "- The difference between a *workbook (.twb)* and *packaged workbook (.twbx)* is that a packaged workbook is meant for sharing and includes the data source and any other files used to make the workbook.\n",
    "- Sharing Tableau workbook\n",
    "    - Via Tableau file\n",
    "    - Via Tableau Server\n",
    "    - Via Tableau Public"
   ]
  },
  {
   "cell_type": "markdown",
   "metadata": {
    "slideshow": {
     "slide_type": "subslide"
    }
   },
   "source": [
    "## Worksheet UI\n",
    "<center><img src=\"./img/Worksheet.png\" alt=\"Drawing\" style=\"width: 700px;\"/></center> \n",
    "    <center> Worksheet Components </center>\n"
   ]
  },
  {
   "cell_type": "markdown",
   "metadata": {
    "slideshow": {
     "slide_type": "subslide"
    }
   },
   "source": [
    "## Add More Data:\n",
    "\n",
    "- Tableau allows for simple merging based on unique identifiers, in this case, it will be \"patient id.\"\n",
    "<center><img src=\"./img/Inner_join_tableau2.png\" alt=\"Drawing\" style=\"width: 700px;\"/></center> \n",
    "    <center> Inner Join in Tableau </center>\n",
    "   "
   ]
  },
  {
   "cell_type": "markdown",
   "metadata": {
    "slideshow": {
     "slide_type": "slide"
    }
   },
   "source": [
    "# <center> Visualizing Data </center>"
   ]
  },
  {
   "cell_type": "markdown",
   "metadata": {
    "slideshow": {
     "slide_type": "subslide"
    }
   },
   "source": [
    "## Visualizing Numerical Data\n",
    "- Tableau has a collection of charts you can use to visualize numerical data.\n",
    "    - These include histograms, scatterplots, box-and-whisker plots, and bullet graphs.\n"
   ]
  },
  {
   "cell_type": "markdown",
   "metadata": {
    "slideshow": {
     "slide_type": "subslide"
    }
   },
   "source": [
    "### Histogram\n",
    "- A histogram helps represent the distribution of numerical data.\n",
    "    - It is similar to a bar chart but it is used to plot frequency of a continuous variable that is divided into bins.\n",
    "- `Action` Drag *Age* into Columns and then click on the histogram in the **Show Me** tab.\n",
    "- In what age range were most Titanic passengers?\n",
    "- NOTE: You can change the bin size by going to the Age (bins) dimension and clicking Edit...\n"
   ]
  },
  {
   "cell_type": "markdown",
   "metadata": {
    "slideshow": {
     "slide_type": "subslide"
    }
   },
   "source": [
    "### Scatter Plot \n",
    "- A scatter plot is good at showing relationships between two numerical variables (measures).\n",
    "- `Action` Add *Age* and *Fare* into Columns and Rows self\n",
    "- By default Tableau aggregates the data which is normally what you want to do. However in a scatter plot you want to see each individual record. So you need to go to **Analysis > Aggregate** Measures to disaggregate the measures.\n",
    "- Is there any relationship between age and fare?\n"
   ]
  },
  {
   "cell_type": "markdown",
   "metadata": {
    "slideshow": {
     "slide_type": "subslide"
    }
   },
   "source": [
    "### Text Tables\n",
    "- Text tables aren’t the most interesting way to visualize data but they have their time and place.\n",
    "- `Action` Add Pclass and Survived into Rows and Columns\n",
    "- `Action` Then add Number of Records into the **Text** box in the **Marks** area.\n",
    "    - I’ll explain in more detail about what the Marks area is for later.\n",
    "- In what class were most of the passengers that died?\n"
   ]
  },
  {
   "cell_type": "markdown",
   "metadata": {
    "slideshow": {
     "slide_type": "subslide"
    }
   },
   "source": [
    "### Bar Chart / Stacked Bars / Pie Chart\n",
    "- Bar charts are probably the most simple and effective way of presenting categorical data.\n",
    "- `Action` Add *Survived* and *Number of Records* into Columns and Rows self.\n",
    "- What if you also want to see how sex played a part into survival?\n",
    "    - `Action` Add *Sex* into Columns self.\n",
    "    - This can also be represented as a Stacked Bar Chart or a Pie Chart using the **Show Me** tab.\n"
   ]
  },
  {
   "cell_type": "markdown",
   "metadata": {
    "slideshow": {
     "slide_type": "slide"
    }
   },
   "source": [
    "# <center> Marks & Customizing the View </center>"
   ]
  },
  {
   "cell_type": "markdown",
   "metadata": {
    "slideshow": {
     "slide_type": "subslide"
    }
   },
   "source": [
    "### Color \n",
    "- Color can be a useful tool in data visualization.\n",
    "- `Action` Return to your histogram.\n",
    "    - To change the color of this chart simply click the Color button in the **Marks** area and choose a new one.\n",
    "- `Action` Return to your scatter plot.\n",
    "    - Changing the color of a chart is nice but changing color based on a variable can be exceptionally helpful\n",
    "    - `Action` Drag the **Pclass** dimension onto Color\n",
    "    - `Action` Click on **Color** and you can change which color represents which **Pclass**.\n"
   ]
  },
  {
   "cell_type": "markdown",
   "metadata": {
    "slideshow": {
     "slide_type": "subslide"
    }
   },
   "source": [
    "### More on Customizing the View\n",
    "- Size and Shape act the same way as color. You can change them by clicking on them and you can make them change based on a variable by dragging that variable on them.\n",
    "- Play around with these until you get a scatterplot that you like.\n",
    "- Label adds a text label to each mark\n",
    "- Tooltip changes what you read on the tooltip when you hover over a mark.\n",
    "- Detail adds other variables to the tooltip.\n"
   ]
  },
  {
   "cell_type": "markdown",
   "metadata": {
    "slideshow": {
     "slide_type": "subslide"
    }
   },
   "source": [
    "### Aliases & Formatting \n",
    "- `Action` Return to your text table (Sheet 3).\n",
    "- Survived 0,1 and Pclass 1,2,3 could be confusing to someone who doesn’t know the data. However, we can change how this is labeled without changing the original dataset.\n",
    "    - For numerical axes you can edit the title of the axes but for categorical axes you have to change the name of the dimension\n",
    "    - `Action` Right click Pclass and rename to Ticket Class.\n",
    "    - Next for the data itself you need to edit aliases to something more interpretable.\n",
    "        - `Action` For example you can right click 0 and edit the alias to “No” and change 1 to “Yes”.\n",
    "        - `Action` Then you could change the ticket classes to “1st”, “2nd”, “3rd”\n",
    "- Finally, you can click the title to give this chart a name.\n",
    "    - You could name this Survival by Ticket Class\n",
    "    - If you rename the sheet at the bottom it will automatically change the title as well.\n"
   ]
  },
  {
   "cell_type": "markdown",
   "metadata": {
    "slideshow": {
     "slide_type": "slide"
    }
   },
   "source": [
    "# <center> Thank you </center>\n",
    "## <center> For questions & feedback: </center>\n",
    "## <center> zelkelani@cmc.edu </center>\n"
   ]
  },
  {
   "cell_type": "code",
   "execution_count": null,
   "metadata": {},
   "outputs": [],
   "source": []
  }
 ],
 "metadata": {
  "celltoolbar": "Slideshow",
  "kernelspec": {
   "display_name": "Python 3",
   "language": "python",
   "name": "python3"
  },
  "language_info": {
   "codemirror_mode": {
    "name": "ipython",
    "version": 3
   },
   "file_extension": ".py",
   "mimetype": "text/x-python",
   "name": "python",
   "nbconvert_exporter": "python",
   "pygments_lexer": "ipython3",
   "version": "3.7.3"
  }
 },
 "nbformat": 4,
 "nbformat_minor": 2
}
